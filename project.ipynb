{
  "nbformat": 4,
  "nbformat_minor": 0,
  "metadata": {
    "colab": {
      "provenance": [],
      "toc_visible": true,
      "authorship_tag": "ABX9TyM4DAGZU+/WOaKKOy58o9S6",
      "include_colab_link": true
    },
    "kernelspec": {
      "name": "python3",
      "display_name": "Python 3"
    },
    "language_info": {
      "name": "python"
    }
  },
  "cells": [
    {
      "cell_type": "markdown",
      "metadata": {
        "id": "view-in-github",
        "colab_type": "text"
      },
      "source": [
        "<a href=\"https://colab.research.google.com/github/boomika-vetriselvam/Decoding-emotions-through-sentiment-analysis-of-social-media-conversation-/blob/main/project.ipynb\" target=\"_parent\"><img src=\"https://colab.research.google.com/assets/colab-badge.svg\" alt=\"Open In Colab\"/></a>"
      ]
    },
    {
      "cell_type": "code",
      "execution_count": 2,
      "metadata": {
        "colab": {
          "base_uri": "https://localhost:8080/"
        },
        "id": "OBqtAToOOklP",
        "outputId": "4dc25308-13b8-436c-ddf9-e3202949db9c"
      },
      "outputs": [
        {
          "output_type": "stream",
          "name": "stderr",
          "text": [
            "Device set to use cpu\n"
          ]
        },
        {
          "output_type": "stream",
          "name": "stdout",
          "text": [
            "Enter a social media message to analyze: I feel nervours\n",
            "Detected Emotion: fear 😱 (Confidence: 0.99)\n"
          ]
        }
      ],
      "source": [
        "from transformers import pipeline\n",
        "\n",
        "# Emotion-to-emoji mapping\n",
        "emotion_emoji_map = {\n",
        "    \"joy\": \"😄\", \"sadness\": \"😢\", \"anger\": \"😠\", \"fear\": \"😱\", \"disgust\": \"🤢\",\n",
        "    \"surprise\": \"😲\", \"love\": \"❤️\", \"admiration\": \"👏\", \"amusement\": \"😂\",\n",
        "    \"gratitude\": \"🙏\", \"nervousness\": \"😬\", \"optimism\": \"🌟\", \"pride\": \"🏅\",\n",
        "    \"disappointment\": \"😞\", \"relief\": \"😌\", \"caring\": \"🤗\", \"remorse\": \"😔\",\n",
        "    \"confusion\": \"😕\", \"realization\": \"💡\", \"neutral\": \"😐\"\n",
        "}\n",
        "\n",
        "# Load emotion classifier\n",
        "classifier = pipeline(\"text-classification\", model=\"j-hartmann/emotion-english-distilroberta-base\")\n",
        "\n",
        "# User input\n",
        "user_input = input(\"Enter a social media message to analyze: \")\n",
        "\n",
        "# Run classification\n",
        "result = classifier(user_input)[0]  # First result from list\n",
        "\n",
        "# Extract data\n",
        "emotion = result['label']\n",
        "score = result['score']\n",
        "emoji_icon = emotion_emoji_map.get(emotion.lower(), \"❓\")\n",
        "\n",
        "# Output\n",
        "print(f\"Detected Emotion: {emotion} {emoji_icon} (Confidence: {score:.2f})\")"
      ]
    }
  ]
}