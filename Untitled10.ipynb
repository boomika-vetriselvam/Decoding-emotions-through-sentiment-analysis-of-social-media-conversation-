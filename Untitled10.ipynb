{
  "nbformat": 4,
  "nbformat_minor": 0,
  "metadata": {
    "colab": {
      "provenance": [],
      "authorship_tag": "ABX9TyMgnzUPyFVBDLRyhccthoMv",
      "include_colab_link": true
    },
    "kernelspec": {
      "name": "python3",
      "display_name": "Python 3"
    },
    "language_info": {
      "name": "python"
    }
  },
  "cells": [
    {
      "cell_type": "markdown",
      "metadata": {
        "id": "view-in-github",
        "colab_type": "text"
      },
      "source": [
        "<a href=\"https://colab.research.google.com/github/boomika-vetriselvam/Decoding-emotions-through-sentiment-analysis-of-social-media-conversation-/blob/main/Untitled10.ipynb\" target=\"_parent\"><img src=\"https://colab.research.google.com/assets/colab-badge.svg\" alt=\"Open In Colab\"/></a>"
      ]
    },
    {
      "cell_type": "code",
      "execution_count": 1,
      "metadata": {
        "colab": {
          "base_uri": "https://localhost:8080/",
          "height": 732
        },
        "id": "VLEEoRBi9Jb5",
        "outputId": "799fc55f-65cf-41bc-c69e-4f16f4ae74d0"
      },
      "outputs": [
        {
          "output_type": "stream",
          "name": "stderr",
          "text": [
            "/usr/local/lib/python3.11/dist-packages/huggingface_hub/utils/_auth.py:94: UserWarning: \n",
            "The secret `HF_TOKEN` does not exist in your Colab secrets.\n",
            "To authenticate with the Hugging Face Hub, create a token in your settings tab (https://huggingface.co/settings/tokens), set it as secret in your Google Colab and restart your session.\n",
            "You will be able to reuse this secret in all of your notebooks.\n",
            "Please note that authentication is recommended but still optional to access public models or datasets.\n",
            "  warnings.warn(\n",
            "Device set to use cpu\n"
          ]
        },
        {
          "output_type": "stream",
          "name": "stdout",
          "text": [
            "Colab notebook detected. To show errors in colab notebook, set debug=True in launch()\n",
            "* Running on public URL: https://74840fb5fe8658cd75.gradio.live\n",
            "\n",
            "This share link expires in 1 week. For free permanent hosting and GPU upgrades, run `gradio deploy` from the terminal in the working directory to deploy to Hugging Face Spaces (https://huggingface.co/spaces)\n"
          ]
        },
        {
          "output_type": "display_data",
          "data": {
            "text/plain": [
              "<IPython.core.display.HTML object>"
            ],
            "text/html": [
              "<div><iframe src=\"https://74840fb5fe8658cd75.gradio.live\" width=\"100%\" height=\"500\" allow=\"autoplay; camera; microphone; clipboard-read; clipboard-write;\" frameborder=\"0\" allowfullscreen></iframe></div>"
            ]
          },
          "metadata": {}
        },
        {
          "output_type": "execute_result",
          "data": {
            "text/plain": []
          },
          "metadata": {},
          "execution_count": 1
        }
      ],
      "source": [
        "\n",
        "# Install required libraries\n",
        "!pip install -q gradio transformers\n",
        "\n",
        "# Import libraries\n",
        "import gradio as gr\n",
        "from transformers import pipeline\n",
        "\n",
        "# Define emotion to emoji mapping\n",
        "emotion_emoji_map = {\n",
        "    \"joy\": \"😄\", \"sadness\": \"😢\", \"anger\": \"😠\", \"fear\": \"😱\", \"disgust\": \"🤢\",\n",
        "    \"surprise\": \"😲\", \"love\": \"❤️\", \"admiration\": \"👏\", \"amusement\": \"😂\",\n",
        "    \"gratitude\": \"🙏\", \"nervousness\": \"😬\", \"optimism\": \"🌟\", \"pride\": \"🏅\",\n",
        "    \"disappointment\": \"😞\", \"relief\": \"😌\", \"caring\": \"🤗\", \"remorse\": \"😔\",\n",
        "    \"confusion\": \"😕\", \"realization\": \"💡\", \"neutral\": \"😐\"\n",
        "}\n",
        "\n",
        "# Load the emotion classifier model\n",
        "classifier = pipeline(\"text-classification\", model=\"j-hartmann/emotion-english-distilroberta-base\")\n",
        "\n",
        "# Define the function to process input\n",
        "def analyze_emotion(text):\n",
        "    result = classifier(text)[0]\n",
        "    emotion = result['label']\n",
        "    score = result['score']\n",
        "    emoji = emotion_emoji_map.get(emotion.lower(), \"❓\")\n",
        "    return f\"Detected Emotion: {emotion} {emoji} (Confidence: {score:.2f})\"\n",
        "\n",
        "# Create Gradio interface\n",
        "interface = gr.Interface(\n",
        "    fn=analyze_emotion,\n",
        "    inputs=gr.Textbox(lines=2, placeholder=\"Type a message here...\"),\n",
        "    outputs=\"text\",\n",
        "    title=\"Emotion Detection\",\n",
        "    description=\"Detects emotion in a message and shows a matching emoji.\"\n",
        ")\n",
        "\n",
        "# Launch interface (share=True for public link)\n",
        "interface.launch(share=True)"
      ]
    }
  ]
}